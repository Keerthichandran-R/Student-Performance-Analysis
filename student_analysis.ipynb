{
 "cells": [
  {
   "cell_type": "code",
   "execution_count": 1,
   "id": "03c5e27b-aea4-4263-9a69-8047bdc72dcd",
   "metadata": {},
   "outputs": [
    {
     "name": "stdout",
     "output_type": "stream",
     "text": [
      "🎓 Top 3 Students:\n",
      "        Name    Average\n",
      "10     Jeeva  78.333333\n",
      "12    Chitra  77.666667\n",
      "17  Elakkiya  74.666667\n",
      "\n",
      "📊 Subject Averages:\n",
      "Math       63.233333\n",
      "Science    59.333333\n",
      "English    58.000000\n",
      "dtype: float64\n",
      "\n",
      "🛑 Students Who Failed:\n",
      "        Name Status\n",
      "0       Indu   Fail\n",
      "4       Hari   Fail\n",
      "5     Farhan   Fail\n",
      "7       Indu   Fail\n",
      "9      Jeeva   Fail\n",
      "16     Beena   Fail\n",
      "18     David   Fail\n",
      "19      Arun   Fail\n",
      "21     David   Fail\n",
      "23  Elakkiya   Fail\n",
      "24  Elakkiya   Fail\n",
      "27      Arun   Fail\n",
      "28     David   Fail\n"
     ]
    }
   ],
   "source": [
    "import pandas as pd\n",
    "\n",
    "# Load the dataset\n",
    "df = pd.read_csv(\"student_scores.csv\")\n",
    "\n",
    "# Calculate average score for each student\n",
    "df[\"Average\"] = df[[\"Math\", \"Science\", \"English\"]].mean(axis=1)\n",
    "\n",
    "# Add pass/fail status (assuming 35 is the passing mark per subject)\n",
    "df[\"Status\"] = df.apply(lambda row: \"Pass\" if all(score >= 35 for score in [row[\"Math\"], row[\"Science\"], row[\"English\"]]) else \"Fail\", axis=1)\n",
    "\n",
    "# Top 3 students by average\n",
    "top_students = df.sort_values(by=\"Average\", ascending=False).head(3)\n",
    "\n",
    "# Subject-wise average\n",
    "subject_averages = df[[\"Math\", \"Science\", \"English\"]].mean()\n",
    "\n",
    "print(\"🎓 Top 3 Students:\")\n",
    "print(top_students[[\"Name\", \"Average\"]])\n",
    "\n",
    "print(\"\\n📊 Subject Averages:\")\n",
    "print(subject_averages)\n",
    "\n",
    "print(\"\\n🛑 Students Who Failed:\")\n",
    "print(df[df[\"Status\"] == \"Fail\"][[\"Name\", \"Status\"]])\n"
   ]
  },
  {
   "cell_type": "code",
   "execution_count": null,
   "id": "06bc9162-bf0f-48f3-90d2-c810668af1b4",
   "metadata": {},
   "outputs": [],
   "source": []
  }
 ],
 "metadata": {
  "kernelspec": {
   "display_name": "Python 3 (ipykernel)",
   "language": "python",
   "name": "python3"
  },
  "language_info": {
   "codemirror_mode": {
    "name": "ipython",
    "version": 3
   },
   "file_extension": ".py",
   "mimetype": "text/x-python",
   "name": "python",
   "nbconvert_exporter": "python",
   "pygments_lexer": "ipython3",
   "version": "3.11.7"
  }
 },
 "nbformat": 4,
 "nbformat_minor": 5
}
